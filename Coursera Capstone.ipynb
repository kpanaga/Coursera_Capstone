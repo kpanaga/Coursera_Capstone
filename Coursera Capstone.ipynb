{
    "cells": [
        {
            "cell_type": "markdown",
            "metadata": {
                "collapsed": true
            },
            "source": "This notebook will mainly be used for the capstone project."
        },
        {
            "cell_type": "markdown",
            "metadata": {},
            "source": "# Introduction/Business Understanding\nUsing the collision data provided by Coursera, I wanted to look into how the type of collision impacts the severity of the incident. What types of car crashes are most likely to result in injury? Knowing this information will inform city officials the types of accidents they should take steps to reduce."
        },
        {
            "cell_type": "markdown",
            "metadata": {},
            "source": "# Data Understanding\nIn the data, there are two key attributes: SEVERITYCODE, which describes the severity of a crash, and COLLISIONTYPE, which describes the type of crash. Other attributes that I will consider but are not crucial are the WEATHER, ROADCOND, LIGHTCOND, INATTENTIONIND, UNDERINFL"
        },
        {
            "cell_type": "markdown",
            "metadata": {},
            "source": "# Data Preparation and Cleaning\nI should drop the attributes I don't need from the table. INCKEY, COLDETKEY, REPORTNO, STATUS, ADDRTYPE, INTKEY, LOCATION, EXCEPTRSNCODE, EXCEPTRSNDESC, SEVERITYCODE, PERSONCOUNT, PEDCOUNT, PEDCYLCOUNT, VEHCOUNT, INCDATE, INCDTTM, JUNCTIONTYPE, SDOT_COLCODE, SDOT_COLDESC, PEDROWNOTGRNT, SDOTCOLNUM, ST_COLCODE, ST_COLDESC, SEGLANEKEY, CROSSWALKKEY, and HITPARKEDCAR are all candidates to be dropped."
        },
        {
            "cell_type": "markdown",
            "metadata": {},
            "source": "# Modeling\nHow will I model this data? First, I will find a pattern in the accidents using more data visualization to find the connections on WEATHER, ROADCOND, LIGHTCOND, INATTENTIONIND, and UNDERINFL on the severity of car crashes. After I visualize that data, I will run a statistical analysis on what accidents are more likely to result in injury."
        },
        {
            "cell_type": "markdown",
            "metadata": {},
            "source": "# Evaluation\nSEVERITYCODE is either 1, no injury, or 2, injury. I want to create graphs of COLLISIONTYPE, WEATHER, ROADCOND, LIGHTCOND, INATTENTIONIND, and UNDERINFL compared to their SEVERITYDESC. "
        },
        {
            "cell_type": "markdown",
            "metadata": {},
            "source": "# Deployment"
        },
        {
            "cell_type": "code",
            "execution_count": 1,
            "metadata": {},
            "outputs": [],
            "source": "import itertools\nimport numpy as np\nimport matplotlib.pyplot as plt\nfrom matplotlib.ticker import NullFormatter\nimport pandas as pd\nimport numpy as np\nimport matplotlib.ticker as ticker\nfrom sklearn import preprocessing\n%matplotlib inline"
        },
        {
            "cell_type": "code",
            "execution_count": 2,
            "metadata": {},
            "outputs": [
                {
                    "name": "stdout",
                    "output_type": "stream",
                    "text": "Hello Capstone Project Course!\n"
                }
            ],
            "source": "print(\"Hello Capstone Project Course!\")"
        },
        {
            "cell_type": "code",
            "execution_count": 3,
            "metadata": {},
            "outputs": [
                {
                    "name": "stderr",
                    "output_type": "stream",
                    "text": "/opt/conda/envs/Python36/lib/python3.6/site-packages/IPython/core/interactiveshell.py:3020: DtypeWarning: Columns (33) have mixed types. Specify dtype option on import or set low_memory=False.\n  interactivity=interactivity, compiler=compiler, result=result)\n"
                },
                {
                    "data": {
                        "text/plain": "SEVERITYCODE        int64\nX                 float64\nY                 float64\nOBJECTID            int64\nINCKEY              int64\nCOLDETKEY           int64\nREPORTNO           object\nSTATUS             object\nADDRTYPE           object\nINTKEY            float64\nLOCATION           object\nEXCEPTRSNCODE      object\nEXCEPTRSNDESC      object\nSEVERITYCODE.1      int64\nSEVERITYDESC       object\nCOLLISIONTYPE      object\nPERSONCOUNT         int64\nPEDCOUNT            int64\nPEDCYLCOUNT         int64\nVEHCOUNT            int64\nINCDATE            object\nINCDTTM            object\nJUNCTIONTYPE       object\nSDOT_COLCODE        int64\nSDOT_COLDESC       object\nINATTENTIONIND     object\nUNDERINFL          object\nWEATHER            object\nROADCOND           object\nLIGHTCOND          object\nPEDROWNOTGRNT      object\nSDOTCOLNUM        float64\nSPEEDING           object\nST_COLCODE         object\nST_COLDESC         object\nSEGLANEKEY          int64\nCROSSWALKKEY        int64\nHITPARKEDCAR       object\ndtype: object"
                    },
                    "execution_count": 3,
                    "metadata": {},
                    "output_type": "execute_result"
                }
            ],
            "source": "df = pd.read_csv(\"https://s3.us.cloud-object-storage.appdomain.cloud/cf-courses-data/CognitiveClass/DP0701EN/version-2/Data-Collisions.csv\")\ndf.dtypes # datatypes"
        },
        {
            "cell_type": "code",
            "execution_count": 4,
            "metadata": {},
            "outputs": [
                {
                    "data": {
                        "text/html": "<div>\n<style scoped>\n    .dataframe tbody tr th:only-of-type {\n        vertical-align: middle;\n    }\n\n    .dataframe tbody tr th {\n        vertical-align: top;\n    }\n\n    .dataframe thead th {\n        text-align: right;\n    }\n</style>\n<table border=\"1\" class=\"dataframe\">\n  <thead>\n    <tr style=\"text-align: right;\">\n      <th></th>\n      <th>SEVERITYDESC</th>\n    </tr>\n  </thead>\n  <tbody>\n    <tr>\n      <th>Property Damage Only Collision</th>\n      <td>136485</td>\n    </tr>\n    <tr>\n      <th>Injury Collision</th>\n      <td>58188</td>\n    </tr>\n  </tbody>\n</table>\n</div>",
                        "text/plain": "                                SEVERITYDESC\nProperty Damage Only Collision        136485\nInjury Collision                       58188"
                    },
                    "execution_count": 4,
                    "metadata": {},
                    "output_type": "execute_result"
                }
            ],
            "source": "df['SEVERITYDESC'].value_counts().to_frame() # choosing columns for the filtered dataframe"
        },
        {
            "cell_type": "code",
            "execution_count": 5,
            "metadata": {},
            "outputs": [
                {
                    "data": {
                        "text/html": "<div>\n<style scoped>\n    .dataframe tbody tr th:only-of-type {\n        vertical-align: middle;\n    }\n\n    .dataframe tbody tr th {\n        vertical-align: top;\n    }\n\n    .dataframe thead th {\n        text-align: right;\n    }\n</style>\n<table border=\"1\" class=\"dataframe\">\n  <thead>\n    <tr style=\"text-align: right;\">\n      <th></th>\n      <th>COLLISIONTYPE</th>\n    </tr>\n  </thead>\n  <tbody>\n    <tr>\n      <th>Parked Car</th>\n      <td>47987</td>\n    </tr>\n    <tr>\n      <th>Angles</th>\n      <td>34674</td>\n    </tr>\n    <tr>\n      <th>Rear Ended</th>\n      <td>34090</td>\n    </tr>\n    <tr>\n      <th>Other</th>\n      <td>23703</td>\n    </tr>\n    <tr>\n      <th>Sideswipe</th>\n      <td>18609</td>\n    </tr>\n    <tr>\n      <th>Left Turn</th>\n      <td>13703</td>\n    </tr>\n    <tr>\n      <th>Pedestrian</th>\n      <td>6608</td>\n    </tr>\n    <tr>\n      <th>Cycles</th>\n      <td>5415</td>\n    </tr>\n    <tr>\n      <th>Right Turn</th>\n      <td>2956</td>\n    </tr>\n    <tr>\n      <th>Head On</th>\n      <td>2024</td>\n    </tr>\n  </tbody>\n</table>\n</div>",
                        "text/plain": "            COLLISIONTYPE\nParked Car          47987\nAngles              34674\nRear Ended          34090\nOther               23703\nSideswipe           18609\nLeft Turn           13703\nPedestrian           6608\nCycles               5415\nRight Turn           2956\nHead On              2024"
                    },
                    "execution_count": 5,
                    "metadata": {},
                    "output_type": "execute_result"
                }
            ],
            "source": "df['COLLISIONTYPE'].value_counts().to_frame()"
        },
        {
            "cell_type": "code",
            "execution_count": 6,
            "metadata": {},
            "outputs": [
                {
                    "data": {
                        "text/html": "<div>\n<style scoped>\n    .dataframe tbody tr th:only-of-type {\n        vertical-align: middle;\n    }\n\n    .dataframe tbody tr th {\n        vertical-align: top;\n    }\n\n    .dataframe thead th {\n        text-align: right;\n    }\n</style>\n<table border=\"1\" class=\"dataframe\">\n  <thead>\n    <tr style=\"text-align: right;\">\n      <th></th>\n      <th>WEATHER</th>\n    </tr>\n  </thead>\n  <tbody>\n    <tr>\n      <th>Clear</th>\n      <td>111135</td>\n    </tr>\n    <tr>\n      <th>Raining</th>\n      <td>33145</td>\n    </tr>\n    <tr>\n      <th>Overcast</th>\n      <td>27714</td>\n    </tr>\n    <tr>\n      <th>Unknown</th>\n      <td>15091</td>\n    </tr>\n    <tr>\n      <th>Snowing</th>\n      <td>907</td>\n    </tr>\n    <tr>\n      <th>Other</th>\n      <td>832</td>\n    </tr>\n    <tr>\n      <th>Fog/Smog/Smoke</th>\n      <td>569</td>\n    </tr>\n    <tr>\n      <th>Sleet/Hail/Freezing Rain</th>\n      <td>113</td>\n    </tr>\n    <tr>\n      <th>Blowing Sand/Dirt</th>\n      <td>56</td>\n    </tr>\n    <tr>\n      <th>Severe Crosswind</th>\n      <td>25</td>\n    </tr>\n    <tr>\n      <th>Partly Cloudy</th>\n      <td>5</td>\n    </tr>\n  </tbody>\n</table>\n</div>",
                        "text/plain": "                          WEATHER\nClear                      111135\nRaining                     33145\nOvercast                    27714\nUnknown                     15091\nSnowing                       907\nOther                         832\nFog/Smog/Smoke                569\nSleet/Hail/Freezing Rain      113\nBlowing Sand/Dirt              56\nSevere Crosswind               25\nPartly Cloudy                   5"
                    },
                    "execution_count": 6,
                    "metadata": {},
                    "output_type": "execute_result"
                }
            ],
            "source": "df['WEATHER'].value_counts().to_frame()"
        },
        {
            "cell_type": "code",
            "execution_count": 7,
            "metadata": {},
            "outputs": [
                {
                    "data": {
                        "text/html": "<div>\n<style scoped>\n    .dataframe tbody tr th:only-of-type {\n        vertical-align: middle;\n    }\n\n    .dataframe tbody tr th {\n        vertical-align: top;\n    }\n\n    .dataframe thead th {\n        text-align: right;\n    }\n</style>\n<table border=\"1\" class=\"dataframe\">\n  <thead>\n    <tr style=\"text-align: right;\">\n      <th></th>\n      <th>ROADCOND</th>\n    </tr>\n  </thead>\n  <tbody>\n    <tr>\n      <th>Dry</th>\n      <td>124510</td>\n    </tr>\n    <tr>\n      <th>Wet</th>\n      <td>47474</td>\n    </tr>\n    <tr>\n      <th>Unknown</th>\n      <td>15078</td>\n    </tr>\n    <tr>\n      <th>Ice</th>\n      <td>1209</td>\n    </tr>\n    <tr>\n      <th>Snow/Slush</th>\n      <td>1004</td>\n    </tr>\n    <tr>\n      <th>Other</th>\n      <td>132</td>\n    </tr>\n    <tr>\n      <th>Standing Water</th>\n      <td>115</td>\n    </tr>\n    <tr>\n      <th>Sand/Mud/Dirt</th>\n      <td>75</td>\n    </tr>\n    <tr>\n      <th>Oil</th>\n      <td>64</td>\n    </tr>\n  </tbody>\n</table>\n</div>",
                        "text/plain": "                ROADCOND\nDry               124510\nWet                47474\nUnknown            15078\nIce                 1209\nSnow/Slush          1004\nOther                132\nStanding Water       115\nSand/Mud/Dirt         75\nOil                   64"
                    },
                    "execution_count": 7,
                    "metadata": {},
                    "output_type": "execute_result"
                }
            ],
            "source": "df['ROADCOND'].value_counts().to_frame()"
        },
        {
            "cell_type": "code",
            "execution_count": 8,
            "metadata": {},
            "outputs": [
                {
                    "data": {
                        "text/html": "<div>\n<style scoped>\n    .dataframe tbody tr th:only-of-type {\n        vertical-align: middle;\n    }\n\n    .dataframe tbody tr th {\n        vertical-align: top;\n    }\n\n    .dataframe thead th {\n        text-align: right;\n    }\n</style>\n<table border=\"1\" class=\"dataframe\">\n  <thead>\n    <tr style=\"text-align: right;\">\n      <th></th>\n      <th>LIGHTCOND</th>\n    </tr>\n  </thead>\n  <tbody>\n    <tr>\n      <th>Daylight</th>\n      <td>116137</td>\n    </tr>\n    <tr>\n      <th>Dark - Street Lights On</th>\n      <td>48507</td>\n    </tr>\n    <tr>\n      <th>Unknown</th>\n      <td>13473</td>\n    </tr>\n    <tr>\n      <th>Dusk</th>\n      <td>5902</td>\n    </tr>\n    <tr>\n      <th>Dawn</th>\n      <td>2502</td>\n    </tr>\n    <tr>\n      <th>Dark - No Street Lights</th>\n      <td>1537</td>\n    </tr>\n    <tr>\n      <th>Dark - Street Lights Off</th>\n      <td>1199</td>\n    </tr>\n    <tr>\n      <th>Other</th>\n      <td>235</td>\n    </tr>\n    <tr>\n      <th>Dark - Unknown Lighting</th>\n      <td>11</td>\n    </tr>\n  </tbody>\n</table>\n</div>",
                        "text/plain": "                          LIGHTCOND\nDaylight                     116137\nDark - Street Lights On       48507\nUnknown                       13473\nDusk                           5902\nDawn                           2502\nDark - No Street Lights        1537\nDark - Street Lights Off       1199\nOther                           235\nDark - Unknown Lighting          11"
                    },
                    "execution_count": 8,
                    "metadata": {},
                    "output_type": "execute_result"
                }
            ],
            "source": "df['LIGHTCOND'].value_counts().to_frame()"
        },
        {
            "cell_type": "code",
            "execution_count": 9,
            "metadata": {},
            "outputs": [
                {
                    "data": {
                        "text/html": "<div>\n<style scoped>\n    .dataframe tbody tr th:only-of-type {\n        vertical-align: middle;\n    }\n\n    .dataframe tbody tr th {\n        vertical-align: top;\n    }\n\n    .dataframe thead th {\n        text-align: right;\n    }\n</style>\n<table border=\"1\" class=\"dataframe\">\n  <thead>\n    <tr style=\"text-align: right;\">\n      <th></th>\n      <th>INATTENTIONIND</th>\n    </tr>\n  </thead>\n  <tbody>\n    <tr>\n      <th>Y</th>\n      <td>29805</td>\n    </tr>\n  </tbody>\n</table>\n</div>",
                        "text/plain": "   INATTENTIONIND\nY           29805"
                    },
                    "execution_count": 9,
                    "metadata": {},
                    "output_type": "execute_result"
                }
            ],
            "source": "df['INATTENTIONIND'].value_counts().to_frame()"
        },
        {
            "cell_type": "code",
            "execution_count": 10,
            "metadata": {},
            "outputs": [
                {
                    "data": {
                        "text/html": "<div>\n<style scoped>\n    .dataframe tbody tr th:only-of-type {\n        vertical-align: middle;\n    }\n\n    .dataframe tbody tr th {\n        vertical-align: top;\n    }\n\n    .dataframe thead th {\n        text-align: right;\n    }\n</style>\n<table border=\"1\" class=\"dataframe\">\n  <thead>\n    <tr style=\"text-align: right;\">\n      <th></th>\n      <th>UNDERINFL</th>\n    </tr>\n  </thead>\n  <tbody>\n    <tr>\n      <th>N</th>\n      <td>100274</td>\n    </tr>\n    <tr>\n      <th>0</th>\n      <td>80394</td>\n    </tr>\n    <tr>\n      <th>Y</th>\n      <td>5126</td>\n    </tr>\n    <tr>\n      <th>1</th>\n      <td>3995</td>\n    </tr>\n  </tbody>\n</table>\n</div>",
                        "text/plain": "   UNDERINFL\nN     100274\n0      80394\nY       5126\n1       3995"
                    },
                    "execution_count": 10,
                    "metadata": {},
                    "output_type": "execute_result"
                }
            ],
            "source": "df['UNDERINFL'].value_counts().to_frame()"
        },
        {
            "cell_type": "code",
            "execution_count": 11,
            "metadata": {},
            "outputs": [
                {
                    "data": {
                        "text/html": "<div>\n<style scoped>\n    .dataframe tbody tr th:only-of-type {\n        vertical-align: middle;\n    }\n\n    .dataframe tbody tr th {\n        vertical-align: top;\n    }\n\n    .dataframe thead th {\n        text-align: right;\n    }\n</style>\n<table border=\"1\" class=\"dataframe\">\n  <thead>\n    <tr style=\"text-align: right;\">\n      <th></th>\n      <th>SEVERITYCODE</th>\n      <th>COLLISIONTYPE</th>\n      <th>WEATHER</th>\n      <th>ROADCOND</th>\n      <th>LIGHTCOND</th>\n      <th>INATTENTIONIND</th>\n      <th>UNDERINFL</th>\n    </tr>\n  </thead>\n  <tbody>\n    <tr>\n      <th>0</th>\n      <td>2</td>\n      <td>Angles</td>\n      <td>Overcast</td>\n      <td>Wet</td>\n      <td>Daylight</td>\n      <td>NaN</td>\n      <td>N</td>\n    </tr>\n    <tr>\n      <th>1</th>\n      <td>1</td>\n      <td>Sideswipe</td>\n      <td>Raining</td>\n      <td>Wet</td>\n      <td>Dark - Street Lights On</td>\n      <td>NaN</td>\n      <td>0</td>\n    </tr>\n    <tr>\n      <th>2</th>\n      <td>1</td>\n      <td>Parked Car</td>\n      <td>Overcast</td>\n      <td>Dry</td>\n      <td>Daylight</td>\n      <td>NaN</td>\n      <td>0</td>\n    </tr>\n    <tr>\n      <th>3</th>\n      <td>1</td>\n      <td>Other</td>\n      <td>Clear</td>\n      <td>Dry</td>\n      <td>Daylight</td>\n      <td>NaN</td>\n      <td>N</td>\n    </tr>\n    <tr>\n      <th>4</th>\n      <td>2</td>\n      <td>Angles</td>\n      <td>Raining</td>\n      <td>Wet</td>\n      <td>Daylight</td>\n      <td>NaN</td>\n      <td>0</td>\n    </tr>\n  </tbody>\n</table>\n</div>",
                        "text/plain": "   SEVERITYCODE COLLISIONTYPE   WEATHER ROADCOND                LIGHTCOND  \\\n0             2        Angles  Overcast      Wet                 Daylight   \n1             1     Sideswipe   Raining      Wet  Dark - Street Lights On   \n2             1    Parked Car  Overcast      Dry                 Daylight   \n3             1         Other     Clear      Dry                 Daylight   \n4             2        Angles   Raining      Wet                 Daylight   \n\n  INATTENTIONIND UNDERINFL  \n0            NaN         N  \n1            NaN         0  \n2            NaN         0  \n3            NaN         N  \n4            NaN         0  "
                    },
                    "execution_count": 11,
                    "metadata": {},
                    "output_type": "execute_result"
                }
            ],
            "source": "df_Conditions = df.filter(['SEVERITYCODE', 'COLLISIONTYPE', 'WEATHER', 'ROADCOND', 'LIGHTCOND', 'INATTENTIONIND', 'UNDERINFL'], axis = 1) # filtered dataframe\ndf_Conditions.head()"
        },
        {
            "cell_type": "code",
            "execution_count": 12,
            "metadata": {},
            "outputs": [
                {
                    "data": {
                        "text/html": "<div>\n<style scoped>\n    .dataframe tbody tr th:only-of-type {\n        vertical-align: middle;\n    }\n\n    .dataframe tbody tr th {\n        vertical-align: top;\n    }\n\n    .dataframe thead th {\n        text-align: right;\n    }\n</style>\n<table border=\"1\" class=\"dataframe\">\n  <thead>\n    <tr style=\"text-align: right;\">\n      <th></th>\n      <th>SEVERITYCODE</th>\n      <th>COLLISIONTYPE</th>\n      <th>WEATHER</th>\n      <th>ROADCOND</th>\n      <th>LIGHTCOND</th>\n      <th>INATTENTIONIND</th>\n      <th>UNDERINFL</th>\n    </tr>\n  </thead>\n  <tbody>\n    <tr>\n      <th>194663</th>\n      <td>2</td>\n      <td>Angles</td>\n      <td>Raining</td>\n      <td>Wet</td>\n      <td>Daylight</td>\n      <td>Y</td>\n      <td>0</td>\n    </tr>\n    <tr>\n      <th>194664</th>\n      <td>1</td>\n      <td>Angles</td>\n      <td>Clear</td>\n      <td>Dry</td>\n      <td>Daylight</td>\n      <td>NaN</td>\n      <td>0</td>\n    </tr>\n    <tr>\n      <th>194665</th>\n      <td>1</td>\n      <td>Angles</td>\n      <td>Clear</td>\n      <td>Dry</td>\n      <td>Daylight</td>\n      <td>NaN</td>\n      <td>0</td>\n    </tr>\n    <tr>\n      <th>194666</th>\n      <td>2</td>\n      <td>Angles</td>\n      <td>Clear</td>\n      <td>Wet</td>\n      <td>Daylight</td>\n      <td>NaN</td>\n      <td>0</td>\n    </tr>\n    <tr>\n      <th>194667</th>\n      <td>1</td>\n      <td>Other</td>\n      <td>Raining</td>\n      <td>Wet</td>\n      <td>Dark - Street Lights On</td>\n      <td>NaN</td>\n      <td>1</td>\n    </tr>\n    <tr>\n      <th>194668</th>\n      <td>2</td>\n      <td>Head On</td>\n      <td>Clear</td>\n      <td>Dry</td>\n      <td>Daylight</td>\n      <td>NaN</td>\n      <td>0</td>\n    </tr>\n    <tr>\n      <th>194669</th>\n      <td>1</td>\n      <td>Rear Ended</td>\n      <td>Raining</td>\n      <td>Wet</td>\n      <td>Daylight</td>\n      <td>Y</td>\n      <td>0</td>\n    </tr>\n    <tr>\n      <th>194670</th>\n      <td>2</td>\n      <td>Left Turn</td>\n      <td>Clear</td>\n      <td>Dry</td>\n      <td>Daylight</td>\n      <td>NaN</td>\n      <td>0</td>\n    </tr>\n    <tr>\n      <th>194671</th>\n      <td>2</td>\n      <td>Cycles</td>\n      <td>Clear</td>\n      <td>Dry</td>\n      <td>Dusk</td>\n      <td>NaN</td>\n      <td>0</td>\n    </tr>\n    <tr>\n      <th>194672</th>\n      <td>1</td>\n      <td>Rear Ended</td>\n      <td>Clear</td>\n      <td>Wet</td>\n      <td>Daylight</td>\n      <td>NaN</td>\n      <td>0</td>\n    </tr>\n  </tbody>\n</table>\n</div>",
                        "text/plain": "        SEVERITYCODE COLLISIONTYPE  WEATHER ROADCOND                LIGHTCOND  \\\n194663             2        Angles  Raining      Wet                 Daylight   \n194664             1        Angles    Clear      Dry                 Daylight   \n194665             1        Angles    Clear      Dry                 Daylight   \n194666             2        Angles    Clear      Wet                 Daylight   \n194667             1         Other  Raining      Wet  Dark - Street Lights On   \n194668             2       Head On    Clear      Dry                 Daylight   \n194669             1    Rear Ended  Raining      Wet                 Daylight   \n194670             2     Left Turn    Clear      Dry                 Daylight   \n194671             2        Cycles    Clear      Dry                     Dusk   \n194672             1    Rear Ended    Clear      Wet                 Daylight   \n\n       INATTENTIONIND UNDERINFL  \n194663              Y         0  \n194664            NaN         0  \n194665            NaN         0  \n194666            NaN         0  \n194667            NaN         1  \n194668            NaN         0  \n194669              Y         0  \n194670            NaN         0  \n194671            NaN         0  \n194672            NaN         0  "
                    },
                    "execution_count": 12,
                    "metadata": {},
                    "output_type": "execute_result"
                }
            ],
            "source": "df_Conditions['UNDERINFL'].replace({\"N\" : \"0\", \"Y\" : \"1\"}, inplace = True) # replacing Y and N with 1 and 0\ndf_Conditions.tail(10)"
        },
        {
            "cell_type": "code",
            "execution_count": 13,
            "metadata": {},
            "outputs": [],
            "source": "import matplotlib.pyplot as plt # need this library to make bar charts"
        },
        {
            "cell_type": "code",
            "execution_count": 14,
            "metadata": {},
            "outputs": [
                {
                    "data": {
                        "text/html": "<div>\n<style scoped>\n    .dataframe tbody tr th:only-of-type {\n        vertical-align: middle;\n    }\n\n    .dataframe tbody tr th {\n        vertical-align: top;\n    }\n\n    .dataframe thead th {\n        text-align: right;\n    }\n</style>\n<table border=\"1\" class=\"dataframe\">\n  <thead>\n    <tr style=\"text-align: right;\">\n      <th></th>\n      <th>SEVERITYCODE</th>\n    </tr>\n  </thead>\n  <tbody>\n    <tr>\n      <th>1</th>\n      <td>136485</td>\n    </tr>\n    <tr>\n      <th>2</th>\n      <td>58188</td>\n    </tr>\n  </tbody>\n</table>\n</div>",
                        "text/plain": "   SEVERITYCODE\n1        136485\n2         58188"
                    },
                    "execution_count": 14,
                    "metadata": {},
                    "output_type": "execute_result"
                }
            ],
            "source": "df_Severity = df_Conditions['SEVERITYCODE'].value_counts().to_frame()\ndf_Severity"
        },
        {
            "cell_type": "code",
            "execution_count": 15,
            "metadata": {},
            "outputs": [
                {
                    "data": {
                        "image/png": "[encoded data removed]",
                        "text/plain": "<Figure size 432x288 with 1 Axes>"
                    },
                    "metadata": {
                        "needs_background": "light"
                    },
                    "output_type": "display_data"
                }
            ],
            "source": "ax = df_Severity.plot.bar(y = 'SEVERITYCODE', rot = 0) # number of noninjury collisions vs injury collisions"
        },
        {
            "cell_type": "code",
            "execution_count": 16,
            "metadata": {},
            "outputs": [],
            "source": "from sklearn.utils import resample"
        },
        {
            "cell_type": "code",
            "execution_count": 17,
            "metadata": {},
            "outputs": [
                {
                    "data": {
                        "text/plain": "2    58188\n1    58188\nName: SEVERITYCODE, dtype: int64"
                    },
                    "execution_count": 17,
                    "metadata": {},
                    "output_type": "execute_result"
                }
            ],
            "source": "df_Conditions_maj = df_Conditions[df_Conditions.SEVERITYCODE == 1]\ndf_Conditions_min = df_Conditions[df_Conditions.SEVERITYCODE == 2]\n\ndf_Conditions_maj_dsample = resample(df_Conditions_maj,\n                                    replace = False,\n                                    n_samples = 58188,\n                                    random_state = 123)\n\ndf_Conditions_balanced = pd.concat([df_Conditions_maj_dsample, df_Conditions_min])\n\ndf_Conditions_balanced.SEVERITYCODE.value_counts()"
        },
        {
            "cell_type": "code",
            "execution_count": 18,
            "metadata": {},
            "outputs": [
                {
                    "data": {
                        "text/plain": "COLLISIONTYPE  SEVERITYCODE\nAngles         2               0.603954\n               1               0.396046\nCycles         2               0.947095\n               1               0.052905\nHead On        2               0.631427\n               1               0.368573\nLeft Turn      2               0.605460\n               1               0.394540\nOther          1               0.552824\n               2               0.447176\nParked Car     1               0.878829\n               2               0.121171\nPedestrian     2               0.952962\n               1               0.047038\nRear Ended     2               0.640543\n               1               0.359457\nRight Turn     1               0.621269\n               2               0.378731\nSideswipe      1               0.733489\n               2               0.266511\nName: SEVERITYCODE, dtype: float64"
                    },
                    "execution_count": 18,
                    "metadata": {},
                    "output_type": "execute_result"
                }
            ],
            "source": "df_Conditions_balanced.groupby(['COLLISIONTYPE'])['SEVERITYCODE'].value_counts(normalize = True) # types of collisions and how many of those types of collisions result in injury"
        },
        {
            "cell_type": "code",
            "execution_count": 19,
            "metadata": {},
            "outputs": [
                {
                    "data": {
                        "text/plain": "WEATHER                   SEVERITYCODE\nBlowing Sand/Dirt         1               0.500000\n                          2               0.500000\nClear                     2               0.527478\n                          1               0.472522\nFog/Smog/Smoke            2               0.526761\n                          1               0.473239\nOther                     1               0.714286\n                          2               0.285714\nOvercast                  2               0.519484\n                          1               0.480516\nPartly Cloudy             2               0.750000\n                          1               0.250000\nRaining                   2               0.542946\n                          1               0.457054\nSevere Crosswind          2               0.538462\n                          1               0.461538\nSleet/Hail/Freezing Rain  1               0.555556\n                          2               0.444444\nSnowing                   1               0.639241\n                          2               0.360759\nUnknown                   1               0.880893\n                          2               0.119107\nName: SEVERITYCODE, dtype: float64"
                    },
                    "execution_count": 19,
                    "metadata": {},
                    "output_type": "execute_result"
                }
            ],
            "source": "df_Conditions_balanced.groupby(['WEATHER'])['SEVERITYCODE'].value_counts(normalize = True) # weather conditions at time of collision and how severe they are"
        },
        {
            "cell_type": "code",
            "execution_count": 20,
            "metadata": {},
            "outputs": [
                {
                    "data": {
                        "text/plain": "ROADCOND        SEVERITYCODE\nDry             2               0.527158\n                1               0.472842\nIce             1               0.597345\n                2               0.402655\nOil             2               0.615385\n                1               0.384615\nOther           2               0.518072\n                1               0.481928\nSand/Mud/Dirt   1               0.510638\n                2               0.489362\nSnow/Slush      1               0.683712\n                2               0.316288\nStanding Water  2               0.526316\n                1               0.473684\nUnknown         1               0.889950\n                2               0.110050\nWet             2               0.536359\n                1               0.463641\nName: SEVERITYCODE, dtype: float64"
                    },
                    "execution_count": 20,
                    "metadata": {},
                    "output_type": "execute_result"
                }
            ],
            "source": "df_Conditions_balanced.groupby(['ROADCOND'])['SEVERITYCODE'].value_counts(normalize = True) # road conditions at time of collision and how severe they are"
        },
        {
            "cell_type": "code",
            "execution_count": 21,
            "metadata": {},
            "outputs": [
                {
                    "data": {
                        "text/plain": "LIGHTCOND                 SEVERITYCODE\nDark - No Street Lights   1               0.614319\n                          2               0.385681\nDark - Street Lights Off  1               0.550498\n                          2               0.449502\nDark - Street Lights On   1               0.503141\n                          2               0.496859\nDark - Unknown Lighting   2               0.571429\n                          1               0.428571\nDawn                      2               0.536808\n                          1               0.463192\nDaylight                  2               0.539054\n                          1               0.460946\nDusk                      2               0.541203\n                          1               0.458797\nOther                     1               0.590551\n                          2               0.409449\nUnknown                   1               0.900198\n                          2               0.099802\nName: SEVERITYCODE, dtype: float64"
                    },
                    "execution_count": 21,
                    "metadata": {},
                    "output_type": "execute_result"
                }
            ],
            "source": "df_Conditions_balanced.groupby(['LIGHTCOND'])['SEVERITYCODE'].value_counts(normalize = True) # light conditions at time of collision and how severe they are"
        },
        {
            "cell_type": "code",
            "execution_count": 22,
            "metadata": {},
            "outputs": [
                {
                    "data": {
                        "text/plain": "25055     0\n65280     0\n86292     0\n155111    0\n64598     0\n119954    0\n64063     0\n105379    0\n181211    0\n187708    0\n63021     0\n156744    0\n10240     1\n37311     0\n108465    0\n97400     0\n51928     0\n7574      0\n135430    0\n64620     0\n160199    0\n169301    0\n120192    0\n158305    0\n179658    0\n67340     0\n184250    0\n57004     0\n49555     1\n74905     0\n187234    0\n72868     0\n21603     0\n124475    0\n126701    0\n28330     0\n166565    0\n171070    0\n184745    0\n103545    0\n115256    0\n182608    0\n75179     0\n73197     0\n97883     1\n55463     0\n32837     0\n57136     0\n4657      1\n122832    0\nName: INATTENTIONIND, dtype: object"
                    },
                    "execution_count": 22,
                    "metadata": {},
                    "output_type": "execute_result"
                }
            ],
            "source": "df_Conditions_balanced['INATTENTIONIND'].replace({\"NaN\" : \"0\", \"Y\" : \"1\"}, inplace = True) # filling in the INATTENTIONIND column with 1s and 0s\ndf_Conditions_balanced['INATTENTIONIND'] = df_Conditions_balanced['INATTENTIONIND'].fillna(0)\ndf_Conditions_balanced['INATTENTIONIND'].head(50)"
        },
        {
            "cell_type": "code",
            "execution_count": 23,
            "metadata": {},
            "outputs": [
                {
                    "data": {
                        "text/plain": "INATTENTIONIND  SEVERITYCODE\n0               1               0.510924\n                2               0.489076\n1               2               0.557211\n                1               0.442789\nName: SEVERITYCODE, dtype: float64"
                    },
                    "execution_count": 23,
                    "metadata": {},
                    "output_type": "execute_result"
                }
            ],
            "source": "df_Conditions_balanced.groupby(['INATTENTIONIND'])['SEVERITYCODE'].value_counts(normalize = True) # inattention at time of collision and how severe they are"
        },
        {
            "cell_type": "code",
            "execution_count": 24,
            "metadata": {},
            "outputs": [
                {
                    "data": {
                        "text/plain": "UNDERINFL  SEVERITYCODE\n0          1               0.502326\n           2               0.497674\n1          2               0.594856\n           1               0.405144\nName: SEVERITYCODE, dtype: float64"
                    },
                    "execution_count": 24,
                    "metadata": {},
                    "output_type": "execute_result"
                }
            ],
            "source": "df_Conditions_balanced.groupby(['UNDERINFL'])['SEVERITYCODE'].value_counts(normalize = True) # under influence at time of collision and how severe they are"
        },
        {
            "cell_type": "code",
            "execution_count": 25,
            "metadata": {},
            "outputs": [
                {
                    "data": {
                        "text/html": "<div>\n<style scoped>\n    .dataframe tbody tr th:only-of-type {\n        vertical-align: middle;\n    }\n\n    .dataframe tbody tr th {\n        vertical-align: top;\n    }\n\n    .dataframe thead th {\n        text-align: right;\n    }\n</style>\n<table border=\"1\" class=\"dataframe\">\n  <thead>\n    <tr style=\"text-align: right;\">\n      <th></th>\n      <th>SEVERITYCODE</th>\n      <th>COLLISIONTYPE</th>\n      <th>WEATHER</th>\n      <th>ROADCOND</th>\n      <th>LIGHTCOND</th>\n      <th>INATTENTIONIND</th>\n      <th>UNDERINFL</th>\n    </tr>\n  </thead>\n  <tbody>\n    <tr>\n      <th>25055</th>\n      <td>1</td>\n      <td>Angles</td>\n      <td>Raining</td>\n      <td>Wet</td>\n      <td>Dark - Street Lights On</td>\n      <td>0</td>\n      <td>0</td>\n    </tr>\n    <tr>\n      <th>65280</th>\n      <td>1</td>\n      <td>Angles</td>\n      <td>Clear</td>\n      <td>Dry</td>\n      <td>Daylight</td>\n      <td>0</td>\n      <td>0</td>\n    </tr>\n    <tr>\n      <th>86292</th>\n      <td>1</td>\n      <td>Angles</td>\n      <td>Unknown</td>\n      <td>Unknown</td>\n      <td>Unknown</td>\n      <td>0</td>\n      <td>0</td>\n    </tr>\n    <tr>\n      <th>155111</th>\n      <td>1</td>\n      <td>Sideswipe</td>\n      <td>Clear</td>\n      <td>Dry</td>\n      <td>Daylight</td>\n      <td>0</td>\n      <td>0</td>\n    </tr>\n    <tr>\n      <th>64598</th>\n      <td>1</td>\n      <td>Head On</td>\n      <td>Clear</td>\n      <td>Dry</td>\n      <td>Daylight</td>\n      <td>0</td>\n      <td>0</td>\n    </tr>\n  </tbody>\n</table>\n</div>",
                        "text/plain": "        SEVERITYCODE COLLISIONTYPE  WEATHER ROADCOND                LIGHTCOND  \\\n25055              1        Angles  Raining      Wet  Dark - Street Lights On   \n65280              1        Angles    Clear      Dry                 Daylight   \n86292              1        Angles  Unknown  Unknown                  Unknown   \n155111             1     Sideswipe    Clear      Dry                 Daylight   \n64598              1       Head On    Clear      Dry                 Daylight   \n\n       INATTENTIONIND UNDERINFL  \n25055               0         0  \n65280               0         0  \n86292               0         0  \n155111              0         0  \n64598               0         0  "
                    },
                    "execution_count": 25,
                    "metadata": {},
                    "output_type": "execute_result"
                }
            ],
            "source": "df_Conditions_balanced.head()"
        },
        {
            "cell_type": "code",
            "execution_count": 29,
            "metadata": {},
            "outputs": [
                {
                    "data": {
                        "text/plain": "<matplotlib.axes._subplots.AxesSubplot at 0x7f4d73258898>"
                    },
                    "execution_count": 29,
                    "metadata": {},
                    "output_type": "execute_result"
                },
                {
                    "data": {
                        "image/png": "[encoded data removed]",
                        "text/plain": "<Figure size 432x288 with 1 Axes>"
                    },
                    "metadata": {
                        "needs_background": "light"
                    },
                    "output_type": "display_data"
                }
            ],
            "source": "df_Conditions_balanced['COLLISIONTYPE'].value_counts().plot(kind = 'bar')"
        },
        {
            "cell_type": "code",
            "execution_count": 30,
            "metadata": {},
            "outputs": [
                {
                    "data": {
                        "text/plain": "<matplotlib.axes._subplots.AxesSubplot at 0x7f4d73240240>"
                    },
                    "execution_count": 30,
                    "metadata": {},
                    "output_type": "execute_result"
                },
                {
                    "data": {
                        "image/png": "[encoded data removed]",
                        "text/plain": "<Figure size 432x288 with 1 Axes>"
                    },
                    "metadata": {
                        "needs_background": "light"
                    },
                    "output_type": "display_data"
                }
            ],
            "source": "df_Conditions_balanced['WEATHER'].value_counts().plot(kind = 'bar')"
        },
        {
            "cell_type": "code",
            "execution_count": 31,
            "metadata": {},
            "outputs": [
                {
                    "data": {
                        "text/plain": "<matplotlib.axes._subplots.AxesSubplot at 0x7f4d731cb358>"
                    },
                    "execution_count": 31,
                    "metadata": {},
                    "output_type": "execute_result"
                },
                {
                    "data": {
                        "image/png": "[encoded data removed]",
                        "text/plain": "<Figure size 432x288 with 1 Axes>"
                    },
                    "metadata": {
                        "needs_background": "light"
                    },
                    "output_type": "display_data"
                }
            ],
            "source": "df_Conditions_balanced['ROADCOND'].value_counts().plot(kind = 'bar')"
        },
        {
            "cell_type": "code",
            "execution_count": 32,
            "metadata": {},
            "outputs": [
                {
                    "data": {
                        "text/plain": "<matplotlib.axes._subplots.AxesSubplot at 0x7f4d730c0b38>"
                    },
                    "execution_count": 32,
                    "metadata": {},
                    "output_type": "execute_result"
                },
                {
                    "data": {
                        "image/png": "[encoded data removed]",
                        "text/plain": "<Figure size 432x288 with 1 Axes>"
                    },
                    "metadata": {
                        "needs_background": "light"
                    },
                    "output_type": "display_data"
                }
            ],
            "source": "df_Conditions_balanced['LIGHTCOND'].value_counts().plot(kind = 'bar')"
        },
        {
            "cell_type": "code",
            "execution_count": 34,
            "metadata": {},
            "outputs": [
                {
                    "data": {
                        "text/plain": "<matplotlib.axes._subplots.AxesSubplot at 0x7f4d7302f2b0>"
                    },
                    "execution_count": 34,
                    "metadata": {},
                    "output_type": "execute_result"
                },
                {
                    "data": {
                        "image/png": "[encoded data removed]",
                        "text/plain": "<Figure size 432x288 with 1 Axes>"
                    },
                    "metadata": {
                        "needs_background": "light"
                    },
                    "output_type": "display_data"
                }
            ],
            "source": "df_Conditions_balanced['INATTENTIONIND'].value_counts().plot(kind = 'bar')"
        },
        {
            "cell_type": "code",
            "execution_count": 35,
            "metadata": {},
            "outputs": [
                {
                    "data": {
                        "text/plain": "<matplotlib.axes._subplots.AxesSubplot at 0x7f4d72fe5ef0>"
                    },
                    "execution_count": 35,
                    "metadata": {},
                    "output_type": "execute_result"
                },
                {
                    "data": {
                        "image/png": "[encoded data removed]",
                        "text/plain": "<Figure size 432x288 with 1 Axes>"
                    },
                    "metadata": {
                        "needs_background": "light"
                    },
                    "output_type": "display_data"
                }
            ],
            "source": "df_Conditions_balanced['UNDERINFL'].value_counts().plot(kind = 'bar')"
        },
        {
            "cell_type": "markdown",
            "metadata": {},
            "source": "\n"
        },
        {
            "cell_type": "markdown",
            "metadata": {},
            "source": "# Conclusion\nAs visualized by the bar graphs, most crashes happen in clear, dry, and daylight conditions. Most do not result in injury, and the majority of crashes happen with drivers in a normal state. Most days are clear, sunny, and bright so it is no surprise that most car crashes happen under those conditions. Crashes that happen when a driver is under the influence or not paying attention appear more likely to result in injury, also no surprise. The results of the data indicate to city officials that drivers should be more careful in ideal conditions."
        },
        {
            "cell_type": "code",
            "execution_count": null,
            "metadata": {},
            "outputs": [],
            "source": ""
        }
    ],
    "metadata": {
        "kernelspec": {
            "display_name": "Python 3.6",
            "language": "python",
            "name": "python3"
        },
        "language_info": {
            "codemirror_mode": {
                "name": "ipython",
                "version": 3
            },
            "file_extension": ".py",
            "mimetype": "text/x-python",
            "name": "python",
            "nbconvert_exporter": "python",
            "pygments_lexer": "ipython3",
            "version": "3.6.9"
        }
    },
    "nbformat": 4,
    "nbformat_minor": 1
}